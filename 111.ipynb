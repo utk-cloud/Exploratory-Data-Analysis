{
  "nbformat": 4,
  "nbformat_minor": 0,
  "metadata": {
    "colab": {
      "provenance": []
    },
    "kernelspec": {
      "name": "python3",
      "display_name": "Python 3"
    },
    "language_info": {
      "name": "python"
    }
  },
  "cells": [
    {
      "cell_type": "code",
      "execution_count": null,
      "metadata": {
        "id": "OTURX0BnT1Qh"
      },
      "outputs": [],
      "source": [
        "# Import python libraries\n",
        "import sqlite3 #for data\n",
        "import numpy as np # for maths\n",
        "import pandas as pd # for dataframe\n",
        "import matplotlib.pyplot as plt #for plotting\n",
        "import seaborn as sns #for plotting"
      ]
    },
    {
      "cell_type": "code",
      "source": [
        "health_inspections = pd.read_csv('/content/Restaurant_and_Market_Health_Inspections.csv')\n",
        "housing_projects = pd.read_csv('/content/LAHD_Affordable_Housing_Projects_List__2003_to_Present_.csv')\n",
        "##loading csv file into the dataframes\n"
      ],
      "metadata": {
        "id": "d28u7yh-UKx5"
      },
      "execution_count": null,
      "outputs": []
    },
    {
      "cell_type": "code",
      "source": [
        "print(health_inspections.head())\n",
        "print(housing_projects.head())\n",
        "# Displaying first few rows just to check how do they look"
      ],
      "metadata": {
        "id": "jwjazHK1UXwn",
        "colab": {
          "base_uri": "https://localhost:8080/"
        },
        "outputId": "14514b4f-8d8f-4d59-f983-93c64c02fe68"
      },
      "execution_count": null,
      "outputs": [
        {
          "output_type": "stream",
          "name": "stdout",
          "text": [
            "  serial_number           activity_date        facility_name  score grade  \\\n",
            "0     DAJ00E07B  12/29/2017 12:00:00 AM  HABITAT COFFEE SHOP     95     A   \n",
            "1     DAQOKRFZB  12/29/2017 12:00:00 AM             REILLY'S     92     A   \n",
            "2     DASJI4LUR  12/29/2017 12:00:00 AM       STREET CHURROS     93     A   \n",
            "3     DA40LU5AT  12/29/2017 12:00:00 AM    TRINITI ECHO PARK     94     A   \n",
            "4     DAXV2RMYC  12/29/2017 12:00:00 AM               POLLEN     94     A   \n",
            "\n",
            "   service_code service_description employee_id           facility_address  \\\n",
            "0             1  ROUTINE INSPECTION   EE0000923     3708 N EAGLE ROCK BLVD   \n",
            "1             1  ROUTINE INSPECTION   EE0000633        100 WORLD WAY # 120   \n",
            "2             1  ROUTINE INSPECTION   EE0000835  6801 HOLLYWOOD BLVD # 253   \n",
            "3             1  ROUTINE INSPECTION   EE0000923         1814 W SUNSET BLVD   \n",
            "4             1  ROUTINE INSPECTION   EE0000923         2100 ECHO PARK AVE   \n",
            "\n",
            "  facility_city facility_id facility_state facility_zip   owner_id  \\\n",
            "0   LOS ANGELES   FA0170465             CA        90065  OW0178123   \n",
            "1   LOS ANGELES   FA0244690             CA        90045  OW0208441   \n",
            "2   LOS ANGELES   FA0224109             CA        90028  OW0228670   \n",
            "3   LOS ANGELES   FA0252528             CA   90026-3227  OW0246287   \n",
            "4   LOS ANGELES   FA0252789             CA        90026  OW0246479   \n",
            "\n",
            "                  owner_name                         pe_description  \\\n",
            "0   GLASSELL COFFEE SHOP LLC  RESTAURANT (0-30) SEATS MODERATE RISK   \n",
            "1  AREAS SKYVIEW LAX JV, LLC  RESTAURANT (0-30) SEATS MODERATE RISK   \n",
            "2         STREETCHURROS, INC       RESTAURANT (0-30) SEATS LOW RISK   \n",
            "3       AMERICAN HOSPITALITY  RESTAURANT (0-30) SEATS MODERATE RISK   \n",
            "4    POLLEN AND PASTRY , LLC  RESTAURANT (0-30) SEATS MODERATE RISK   \n",
            "\n",
            "   program_element_pe         program_name program_status  record_id  \n",
            "0                1631  HABITAT COFFEE SHOP         ACTIVE  PR0160774  \n",
            "1                1631             REILLY'S         ACTIVE  PR0193026  \n",
            "2                1630       STREET CHURROS         ACTIVE  PR0179282  \n",
            "3                1631    TRINITI ECHO PARK         ACTIVE  PR0201836  \n",
            "4                1631               POLLEN         ACTIVE  PR0202148  \n",
            "          APN PROJECT NUMBER                       NAME DEVELOPMENT STAGE  \\\n",
            "0  5143020023      02-118256       SAN LUCAS APARTMENTS        In-Service   \n",
            "1  5050011005      05-117193     LEEWARD APTS. (SITE 7)        In-Service   \n",
            "2  5114014020      14-121652    FLORENCE MILLS (SITE 5)        In-Service   \n",
            "3  4012018025          60013  MORGAN PLACE SENIOR APTS.        In-Service   \n",
            "4  5153030026          50036             WITMER HEIGHTS        In-Service   \n",
            "\n",
            "  CONSTRUCTION TYPE                                       SITE ADDRESS  \\\n",
            "0  NEW CONSTRUCTION               1221 W 7TH ST  Los Angeles, CA 90017   \n",
            "1             REHAB            2809 S WEST BLVD  Los Angeles, CA 90016   \n",
            "2  NEW CONSTRUCTION  1037 E MARTIN LUTHER KING BLVD  LOS ANGELES, C...   \n",
            "3  NEW CONSTRUCTION        7305 S CRENSHAW BLVD  Los Angeles, CA 90043   \n",
            "4               NaN             116 S WITMER ST  Los Angeles, CA 90026   \n",
            "\n",
            "   SITE  COUNCIL DISTRICT  SITE #     SITE COMMUNITY  SITE UNITS  ...  \\\n",
            "0                       1       1           WESTLAKE         196  ...   \n",
            "1                      10       7  CRENSHAW DISTRICT           0  ...   \n",
            "2                       9       5            CENTRAL           0  ...   \n",
            "3                       8       1          HYDE PARK          55  ...   \n",
            "4                      13       1     TEMPLE-BEAUDRY          49  ...   \n",
            "\n",
            "                MANAGEMENT COMPANY   CONTACT PHONE  \\\n",
            "0         GSL PROPERRTY MANAGEMENT             NaN   \n",
            "1  ALPHA PROPERTY MANAGEMENT, INC.  (323) 231-4174   \n",
            "2   BARKER MANAGEMENT INCORPORATED  (714) 533-3450   \n",
            "3                ABODE COMMUNITIES  (213) 225-2772   \n",
            "4         THE JOHN STEWART COMPANY  (213) 482-9122   \n",
            "\n",
            "                                               PHOTO   JOBS  \\\n",
            "0  click here (http://hcidapp.lacity.org/mpphotos...    NaN   \n",
            "1  click here (http://hcidapp.lacity.org/mpphotos...    NaN   \n",
            "2  click here (http://hcidapp.lacity.org/mpphotos...  226.0   \n",
            "3  click here (http://hcidapp.lacity.org/mpphotos...  110.0   \n",
            "4  click here (http://hcidapp.lacity.org/mpphotos...   95.0   \n",
            "\n",
            "                                 PROJECT SUMMARY URL  CONTRACT NUMBERS  \\\n",
            "0  click here (http://hcidapp.lacity.org/ahtfRepo...               NaN   \n",
            "1  click here (http://hcidapp.lacity.org/ahtfRepo...               NaN   \n",
            "2  click here (http://hcidapp.lacity.org/ahtfRepo...          C-129358   \n",
            "3  click here (http://hcidapp.lacity.org/ahtfRepo...          C-111486   \n",
            "4  click here (http://hcidapp.lacity.org/ahtfRepo...          C-109452   \n",
            "\n",
            "                DATE STAMP  SITE LONGITUDE  SITE LATITUDE  \\\n",
            "0  2024-08-05T00:00:00.000      -118.26584       34.05235   \n",
            "1  2024-08-05T00:00:00.000      -118.34182       34.03071   \n",
            "2  2024-08-05T00:00:00.000      -118.25740       34.01115   \n",
            "3  2024-08-05T00:00:00.000      -118.33139       33.97355   \n",
            "4  2024-08-05T00:00:00.000      -118.26086       34.06173   \n",
            "\n",
            "             GPS_COORDS ON MAP  \n",
            "0  POINT (-118.26584 34.05235)  \n",
            "1  POINT (-118.34182 34.03071)  \n",
            "2   POINT (-118.2574 34.01115)  \n",
            "3  POINT (-118.33139 33.97355)  \n",
            "4  POINT (-118.26086 34.06173)  \n",
            "\n",
            "[5 rows x 31 columns]\n"
          ]
        }
      ]
    },
    {
      "cell_type": "code",
      "source": [
        "print(health_inspections.tail())\n",
        "print(housing_projects.tail())"
      ],
      "metadata": {
        "colab": {
          "base_uri": "https://localhost:8080/"
        },
        "id": "ubIymMCGwkx9",
        "outputId": "b5a03b8e-843b-466f-93c3-b5e79ac4705c"
      },
      "execution_count": null,
      "outputs": [
        {
          "output_type": "stream",
          "name": "stdout",
          "text": [
            "      serial_number           activity_date          facility_name  score  \\\n",
            "67568     DAZZ4BFUD  06/15/2018 12:00:00 AM           RAMEN MARUYA     94   \n",
            "67569     DAZZ4TRBY  05/16/2018 12:00:00 AM            KANG WON DO     96   \n",
            "67570     DAZZ9YUS4  04/20/2018 12:00:00 AM           OASIS MARKET     91   \n",
            "67571     DAZZJBQUO  04/17/2018 12:00:00 AM       TEN TEN YU RAMEN     95   \n",
            "67572     DAZZL6GP3  06/07/2018 12:00:00 AM  SUPERIOR GROCERS #113     97   \n",
            "\n",
            "      grade  service_code service_description employee_id  \\\n",
            "67568     A             1  ROUTINE INSPECTION   EE0000360   \n",
            "67569     A             1  ROUTINE INSPECTION   EE0000723   \n",
            "67570     A             1  ROUTINE INSPECTION   EE0000594   \n",
            "67571     A             1  ROUTINE INSPECTION   EE0000375   \n",
            "67572     A             1  ROUTINE INSPECTION   EE0000557   \n",
            "\n",
            "                    facility_address facility_city  ... facility_state  \\\n",
            "67568  104 JAPANESE VILLAGE PLZ MALL   LOS ANGELES  ...             CA   \n",
            "67569         4050 W WASHINGTON BLVD   LOS ANGELES  ...             CA   \n",
            "67570                   4312 WALL ST   LOS ANGELES  ...             CA   \n",
            "67571             2012 SAWTELLE BLVD   LOS ANGELES  ...             CA   \n",
            "67572      3600 E CESAR E CHAVEZ AVE   LOS ANGELES  ...             CA   \n",
            "\n",
            "      facility_zip   owner_id                  owner_name  \\\n",
            "67568        90012  OW0124708            RAMEN MARUYA INC   \n",
            "67569        90018  OW0100601     KANG WON DO CORPORATION   \n",
            "67570        90011  OW0178002   MCLELLAN INVESTMENTS, LLC   \n",
            "67571        90025  OW0229730                   WAO, INC.   \n",
            "67572        90063  OW0034460  SUPER CENTER CONCEPTS, INC   \n",
            "\n",
            "                              pe_description program_element_pe  \\\n",
            "67568     RESTAURANT (31-60) SEATS HIGH RISK               1635   \n",
            "67569   FOOD MKT RETAIL (2,000+ SF) LOW RISK               1613   \n",
            "67570  FOOD MKT RETAIL (2,000+ SF) HIGH RISK               1615   \n",
            "67571     RESTAURANT (31-60) SEATS HIGH RISK               1635   \n",
            "67572  RESTAURANT (0-30) SEATS MODERATE RISK               1631   \n",
            "\n",
            "                       program_name program_status  record_id  \\\n",
            "67568                  RAMEN MARUYA         ACTIVE  PR0147764   \n",
            "67569                   KANG WON DO         ACTIVE  PR0121641   \n",
            "67570                  OASIS MARKET         ACTIVE  PR0160629   \n",
            "67571              TEN TEN YU RAMEN         ACTIVE  PR0180788   \n",
            "67572  SUPERIOR GROCERS #113 TORTIL         ACTIVE  PR0019416   \n",
            "\n",
            "      missing_values_count  \n",
            "67568                    0  \n",
            "67569                    0  \n",
            "67570                    0  \n",
            "67571                    0  \n",
            "67572                    0  \n",
            "\n",
            "[5 rows x 21 columns]\n",
            "            APN PROJECT NUMBER                         NAME DEVELOPMENT STAGE  \\\n",
            "590  5101030030      18-125517       MAIN STREET APARTMENTS        In-Service   \n",
            "591  5149010949      18-124964  GRAND AVENUE PARCEL Q APTS.        In-Service   \n",
            "592  5114014004      14-121652      FLORENCE MILLS (SITE 4)        In-Service   \n",
            "593  5183005010      09-117211      LAS MARGARITAS (SITE 2)        In-Service   \n",
            "594  5153006024          50035                  UNION POINT        In-Service   \n",
            "\n",
            "                   CONSTRUCTION TYPE  \\\n",
            "590                 NEW CONSTRUCTION   \n",
            "591            DEMO/NEW CONSTRUCTION   \n",
            "592                 NEW CONSTRUCTION   \n",
            "593  BOTH REHAB AND NEW CONSTRUCTION   \n",
            "594                 NEW CONSTRUCTION   \n",
            "\n",
            "                                   SITE ADDRESS  SITE  COUNCIL DISTRICT  \\\n",
            "590       5501 S MAIN ST  Los Angeles, CA 90037                       9   \n",
            "591      100 S GRAND AVE  Los Angeles, CA 90012                      14   \n",
            "592   3509 S CENTRAL AVE  LOS ANGELES, CA 90011                       9   \n",
            "593        115 N SOTO ST  Los Angeles, CA 90033                      14   \n",
            "594  420 S UNION DR 1-21  Los Angeles, CA 90017                       1   \n",
            "\n",
            "     SITE # SITE COMMUNITY  SITE UNITS  ...   CONTACT PHONE  \\\n",
            "590       1     SOUTH PARK          57  ...  (323) 433-3676   \n",
            "591       1       DOWNTOWN         323  ...             NaN   \n",
            "592       4        CENTRAL           0  ...  (714) 533-3450   \n",
            "593       2  BOYLE HEIGHTS           0  ...  (213) 878-2716   \n",
            "594       1       WESTLAKE          21  ...  (714) 282-2520   \n",
            "\n",
            "                                                 PHOTO        JOBS  \\\n",
            "590  click here (http://hcidapp.lacity.org/mpphotos...  315.000000   \n",
            "591  click here (http://hcidapp.lacity.org/mpphotos...  193.453012   \n",
            "592  click here (http://hcidapp.lacity.org/mpphotos...  226.000000   \n",
            "593  click here (http://hcidapp.lacity.org/mpphotos...  121.000000   \n",
            "594  click here (http://hcidapp.lacity.org/mpphotos...   40.000000   \n",
            "\n",
            "                                   PROJECT SUMMARY URL CONTRACT NUMBERS  \\\n",
            "590  click here (http://hcidapp.lacity.org/ahtfRepo...         C-138434   \n",
            "591  click here (http://hcidapp.lacity.org/ahtfRepo...              NaN   \n",
            "592  click here (http://hcidapp.lacity.org/ahtfRepo...         C-129358   \n",
            "593  click here (http://hcidapp.lacity.org/ahtfRepo...         C-117254   \n",
            "594  click here (http://hcidapp.lacity.org/ahtfRepo...         C-109529   \n",
            "\n",
            "                  DATE STAMP  SITE LONGITUDE  SITE LATITUDE  \\\n",
            "590  2024-08-05T00:00:00.000      -118.27416       33.99209   \n",
            "591  2024-08-05T00:00:00.000      -118.24841       34.05451   \n",
            "592  2024-08-05T00:00:00.000      -118.25670       34.01140   \n",
            "593  2024-08-05T00:00:00.000      -118.20967       34.04422   \n",
            "594  2024-08-05T00:00:00.000      -118.26768       34.05845   \n",
            "\n",
            "               GPS_COORDS ON MAP missing_values_count  \n",
            "590  POINT (-118.27416 33.99209)                    0  \n",
            "591  POINT (-118.24841 34.05451)                    4  \n",
            "592    POINT (-118.2567 34.0114)                    0  \n",
            "593  POINT (-118.20967 34.04422)                    0  \n",
            "594  POINT (-118.26768 34.05845)                    0  \n",
            "\n",
            "[5 rows x 32 columns]\n"
          ]
        }
      ]
    },
    {
      "cell_type": "code",
      "source": [
        "##Not looking good"
      ],
      "metadata": {
        "id": "3TZfHDJtlYbg"
      },
      "execution_count": null,
      "outputs": []
    },
    {
      "cell_type": "code",
      "source": [
        "print(\"Health Inspections Data Types:\\n\", health_inspections.dtypes)\n",
        "\n",
        "print(\"Housing Projects Data Types:\\n\", housing_projects.dtypes)\n",
        "# Checking data types for housing projects and health inspections"
      ],
      "metadata": {
        "colab": {
          "base_uri": "https://localhost:8080/"
        },
        "id": "R72IQpmnlwm-",
        "outputId": "e730dda8-b065-4d25-ffeb-2f4b10993528"
      },
      "execution_count": null,
      "outputs": [
        {
          "output_type": "stream",
          "name": "stdout",
          "text": [
            "Health Inspections Data Types:\n",
            " serial_number          object\n",
            "activity_date          object\n",
            "facility_name          object\n",
            "score                   int64\n",
            "grade                  object\n",
            "service_code            int64\n",
            "service_description    object\n",
            "employee_id            object\n",
            "facility_address       object\n",
            "facility_city          object\n",
            "facility_id            object\n",
            "facility_state         object\n",
            "facility_zip           object\n",
            "owner_id               object\n",
            "owner_name             object\n",
            "pe_description         object\n",
            "program_element_pe      int64\n",
            "program_name           object\n",
            "program_status         object\n",
            "record_id              object\n",
            "dtype: object\n",
            "Housing Projects Data Types:\n",
            " APN                          int64\n",
            "PROJECT NUMBER              object\n",
            "NAME                        object\n",
            "DEVELOPMENT STAGE           object\n",
            "CONSTRUCTION TYPE           object\n",
            "SITE ADDRESS                object\n",
            "SITE  COUNCIL DISTRICT       int64\n",
            "SITE #                       int64\n",
            "SITE COMMUNITY              object\n",
            "SITE UNITS                   int64\n",
            "PROJECT TOTAL UNITS          int64\n",
            "HOUSING TYPE                object\n",
            "SUPPORTIVE HOUSING          object\n",
            "SH UNITS PER SITE            int64\n",
            "DATE FUNDED                 object\n",
            "LAHD FUNDED                float64\n",
            "LEVERAGE                   float64\n",
            "TAX EXEMPT CONDUIT BOND      int64\n",
            "TDC                        float64\n",
            "IN-SERVICE DATE             object\n",
            "DEVELOPER                   object\n",
            "MANAGEMENT COMPANY          object\n",
            "CONTACT PHONE               object\n",
            "PHOTO                       object\n",
            "JOBS                       float64\n",
            "PROJECT SUMMARY URL         object\n",
            "CONTRACT NUMBERS            object\n",
            "DATE STAMP                  object\n",
            "SITE LONGITUDE             float64\n",
            "SITE LATITUDE              float64\n",
            "GPS_COORDS ON MAP           object\n",
            "dtype: object\n"
          ]
        }
      ]
    },
    {
      "cell_type": "code",
      "source": [
        "health_inspections['activity_date'] = pd.to_datetime(\n",
        "    health_inspections['activity_date'],\n",
        "    format=\"%m/%d/%Y %I:%M:%S %p\",  # specifying the format , inspired by chatGPT\n",
        "    errors='coerce'  # convert errors to NaT (Not a Time) #also inspired by ChatGPT , not copied obviously\n",
        ") ## converting data types\n",
        "\n",
        "print(health_inspections['activity_date'].head())"
      ],
      "metadata": {
        "colab": {
          "base_uri": "https://localhost:8080/"
        },
        "id": "jWStqMgOx47u",
        "outputId": "32e36f47-8f51-47f8-a9ac-57ecb1b99512"
      },
      "execution_count": null,
      "outputs": [
        {
          "output_type": "stream",
          "name": "stdout",
          "text": [
            "0   2017-12-29\n",
            "1   2017-12-29\n",
            "2   2017-12-29\n",
            "3   2017-12-29\n",
            "4   2017-12-29\n",
            "Name: activity_date, dtype: datetime64[ns]\n"
          ]
        }
      ]
    },
    {
      "cell_type": "code",
      "source": [
        "# data types looks okay to me"
      ],
      "metadata": {
        "id": "sI72OBjvpbGb"
      },
      "execution_count": null,
      "outputs": []
    },
    {
      "cell_type": "code",
      "source": [
        "\n",
        "print('health inspection')\n",
        "print('Number of Rows =', health_inspections.shape[0])\n",
        "print('Number of Columns =', health_inspections.shape[1])\n",
        "\n",
        "print('housing projects')\n",
        "print('Number of Rows =', housing_projects.shape[0])\n",
        "print('Number of Columns =', housing_projects.shape[1]) ## displaying no. of rows and columns to get clarity while seeing empty cells\n",
        "\n",
        "health_inspections['missing_values_count'] = health_inspections.isnull().sum(axis=1)\n",
        "print(health_inspections[['missing_values_count']].sort_values(by='missing_values_count', ascending=False))\n",
        "\n",
        "housing_projects['missing_values_count'] = housing_projects.isnull().sum(axis=1)\n",
        "print(housing_projects[['missing_values_count']].sort_values(by='missing_values_count', ascending=False)) #creating new column for missing values and then checking(sum) for missing values by rows\n",
        "\n",
        "\n",
        "\n",
        "# Checking for missing values by rows\n"
      ],
      "metadata": {
        "colab": {
          "base_uri": "https://localhost:8080/"
        },
        "id": "aKQ0MclbpeVr",
        "outputId": "6542998d-0ab9-4c05-94bd-220547685d6d"
      },
      "execution_count": null,
      "outputs": [
        {
          "output_type": "stream",
          "name": "stdout",
          "text": [
            "health inspection\n",
            "Number of Rows = 67573\n",
            "Number of Columns = 21\n",
            "housing projects\n",
            "Number of Rows = 595\n",
            "Number of Columns = 33\n",
            "       missing_values_count\n",
            "40976                     1\n",
            "36128                     1\n",
            "34360                     1\n",
            "32351                     1\n",
            "35110                     1\n",
            "...                     ...\n",
            "22523                     0\n",
            "22524                     0\n",
            "22525                     0\n",
            "22526                     0\n",
            "67572                     0\n",
            "\n",
            "[67573 rows x 1 columns]\n",
            "     missing_values_count\n",
            "8                       6\n",
            "451                     4\n",
            "289                     4\n",
            "35                      4\n",
            "175                     4\n",
            "..                    ...\n",
            "127                     0\n",
            "333                     0\n",
            "332                     0\n",
            "129                     0\n",
            "594                     0\n",
            "\n",
            "[595 rows x 1 columns]\n"
          ]
        }
      ]
    },
    {
      "cell_type": "code",
      "source": [
        "\n",
        "print(health_inspections.isnull().sum())\n",
        "\n",
        "print(housing_projects.isnull().sum())\n",
        "##and then by columns"
      ],
      "metadata": {
        "colab": {
          "base_uri": "https://localhost:8080/"
        },
        "id": "DFrdXb7jstSz",
        "outputId": "e823d64c-d4be-4516-a1b7-f486f7598bd3"
      },
      "execution_count": null,
      "outputs": [
        {
          "output_type": "stream",
          "name": "stdout",
          "text": [
            "serial_number            0\n",
            "activity_date            0\n",
            "facility_name            0\n",
            "score                    0\n",
            "grade                    3\n",
            "service_code             0\n",
            "service_description      0\n",
            "employee_id              0\n",
            "facility_address         0\n",
            "facility_city            0\n",
            "facility_id              0\n",
            "facility_state           0\n",
            "facility_zip             0\n",
            "owner_id                 0\n",
            "owner_name               0\n",
            "pe_description           0\n",
            "program_element_pe       0\n",
            "program_name            29\n",
            "program_status           0\n",
            "record_id                0\n",
            "missing_values_count     0\n",
            "dtype: int64\n",
            "APN                          0\n",
            "PROJECT NUMBER               0\n",
            "NAME                         0\n",
            "DEVELOPMENT STAGE            1\n",
            "CONSTRUCTION TYPE           34\n",
            "SITE ADDRESS                 0\n",
            "SITE  COUNCIL DISTRICT       0\n",
            "SITE #                       0\n",
            "SITE COMMUNITY               7\n",
            "SITE UNITS                   0\n",
            "PROJECT TOTAL UNITS          0\n",
            "HOUSING TYPE                22\n",
            "SUPPORTIVE HOUSING           0\n",
            "SH UNITS PER SITE            0\n",
            "DATE FUNDED                  1\n",
            "LAHD FUNDED                  0\n",
            "LEVERAGE                     0\n",
            "TAX EXEMPT CONDUIT BOND      0\n",
            "TDC                          0\n",
            "IN-SERVICE DATE              0\n",
            "DEVELOPER                   26\n",
            "MANAGEMENT COMPANY          55\n",
            "CONTACT PHONE               84\n",
            "PHOTO                        0\n",
            "JOBS                       180\n",
            "PROJECT SUMMARY URL          0\n",
            "CONTRACT NUMBERS           148\n",
            "DATE STAMP                   0\n",
            "SITE LONGITUDE               0\n",
            "SITE LATITUDE                0\n",
            "GPS_COORDS ON MAP            0\n",
            "missing_values_count         0\n",
            "dtype: int64\n"
          ]
        }
      ]
    },
    {
      "cell_type": "code",
      "source": [
        "\n",
        "housing_projects['JOBS'].fillna(housing_projects['JOBS'].mean(), inplace=True) #fill empty rows with mean\n",
        "\n",
        "health_inspections_cleaned = health_inspections.dropna()\n",
        "housing_projects_cleaned = housing_projects.dropna() ##clearing enpty rows\n",
        "\n",
        "# filling JOBS and dropping other as it makes more sense , no of jobs as a location can be mean of all but can't be said for other columns"
      ],
      "metadata": {
        "id": "xQq4qf4ktYSy"
      },
      "execution_count": null,
      "outputs": []
    },
    {
      "cell_type": "code",
      "source": [
        "print(health_inspections['facility_zip'].unique()) #to find unexpexted entries\n",
        "\n",
        "invalid_scores = health_inspections[(health_inspections['score'] < 0) | (health_inspections['score'] > 100)] #everything is valid\n",
        "\n",
        "print(invalid_scores)\n",
        "\n",
        "# Checking unexpexted entries in ZIP codes as it will be usefull in future in question similiarly for score to between 1 to 100\n"
      ],
      "metadata": {
        "colab": {
          "base_uri": "https://localhost:8080/"
        },
        "id": "EHhHDng5ud_c",
        "outputId": "d80dbce2-8e56-4081-d57e-2a3cf113bf05"
      },
      "execution_count": null,
      "outputs": [
        {
          "output_type": "stream",
          "name": "stdout",
          "text": [
            "['90065' '90045' '90028' ... '90014-2106' '90013-2345' '90015-3135']\n",
            "Empty DataFrame\n",
            "Columns: [serial_number, activity_date, facility_name, score, grade, service_code, service_description, employee_id, facility_address, facility_city, facility_id, facility_state, facility_zip, owner_id, owner_name, pe_description, program_element_pe, program_name, program_status, record_id, missing_values_count]\n",
            "Index: []\n",
            "\n",
            "[0 rows x 21 columns]\n"
          ]
        }
      ]
    },
    {
      "cell_type": "code",
      "source": [
        "### all okay to me"
      ],
      "metadata": {
        "id": "bHaNPzt6wA7c"
      },
      "execution_count": null,
      "outputs": []
    },
    {
      "cell_type": "code",
      "source": [
        "plt.figure(figsize=(8,6))\n",
        "sns.histplot(health_inspections['score'], bins=20, kde=True)\n",
        "plt.title('Distribution of Health Inspection Scores')\n",
        "plt.xlabel('Score')\n",
        "plt.ylabel('Frequency')\n",
        "plt.show()\n",
        "# checks score freq, as we can see score around 91 give most"
      ],
      "metadata": {
        "colab": {
          "base_uri": "https://localhost:8080/",
          "height": 564
        },
        "id": "NP3NT1CbwDKY",
        "outputId": "db78dd18-857e-4ad4-ff39-bffa11fe5f5c"
      },
      "execution_count": null,
      "outputs": [
        {
          "output_type": "display_data",
          "data": {
            "text/plain": [
              "<Figure size 800x600 with 1 Axes>"
            ],
            "image/png": "[encoded data removed]"
          },
          "metadata": {}
        }
      ]
    },
    {
      "cell_type": "code",
      "source": [
        "plt.figure(figsize=(10,6))\n",
        "health_inspections['facility_zip'].value_counts().head(10).plot(kind='bar')\n",
        "plt.title('Top 10 ZIP Codes by Number of Health Inspections')\n",
        "plt.xlabel('ZIP Code')\n",
        "plt.ylabel('Number of Inspections')\n",
        "plt.show()\n",
        "## no. of health inspection in zip code"
      ],
      "metadata": {
        "colab": {
          "base_uri": "https://localhost:8080/",
          "height": 594
        },
        "id": "clh06IlMxVCE",
        "outputId": "0f0f2022-a10b-4e13-f72e-8e3984adc641"
      },
      "execution_count": null,
      "outputs": [
        {
          "output_type": "display_data",
          "data": {
            "text/plain": [
              "<Figure size 1000x600 with 1 Axes>"
            ],
            "image/png": "[encoded data removed]"
          },
          "metadata": {}
        }
      ]
    },
    {
      "cell_type": "code",
      "source": [
        "plt.figure(figsize=(8,6))\n",
        "sns.histplot(housing_projects['SITE UNITS'], bins=20, kde=True)\n",
        "plt.title('Distribution of Housing Units in Projects')\n",
        "plt.xlabel('Number of Units')\n",
        "plt.ylabel('Frequency')\n",
        "plt.show()\n",
        "# self-explanatory title done with the help of chatgpt"
      ],
      "metadata": {
        "colab": {
          "base_uri": "https://localhost:8080/",
          "height": 564
        },
        "id": "292iI3xBy3UL",
        "outputId": "c92cb552-7d76-4bc7-d431-157a30df0c93"
      },
      "execution_count": null,
      "outputs": [
        {
          "output_type": "display_data",
          "data": {
            "text/plain": [
              "<Figure size 800x600 with 1 Axes>"
            ],
            "image/png": "[encoded data removed]"
          },
          "metadata": {}
        }
      ]
    },
    {
      "cell_type": "code",
      "source": [
        "housing_projects['ZIP_CODE'] = housing_projects['SITE ADDRESS'].str.extract(r'(\\d{5})').astype(str)\n",
        "health_inspections['facility_zip'] = health_inspections['facility_zip'].astype(str).str[:5]\n",
        "\n",
        "conn = sqlite3.connect(':memory:')\n",
        "\n",
        "housing_projects.to_sql('housing', conn, index=False, if_exists='replace')\n",
        "health_inspections.to_sql('health', conn, index=False, if_exists='replace')\n",
        "\n",
        "housing_summary_query = \"\"\"\n",
        "SELECT\n",
        "    ZIP_CODE,\n",
        "    SUM(`SITE UNITS`) AS total_housing_units,\n",
        "    SUM(`LAHD FUNDED`) AS total_funded,\n",
        "    SUM(`TDC`) AS total_cost\n",
        "FROM housing\n",
        "GROUP BY ZIP_CODE\n",
        "\"\"\"\n",
        "\n",
        "health_summary_query = \"\"\"\n",
        "SELECT\n",
        "    facility_zip AS ZIP_CODE,\n",
        "    AVG(score) AS avg_health_score,\n",
        "    COUNT(score) AS total_inspections\n",
        "FROM health\n",
        "GROUP BY facility_zip\n",
        "\"\"\"\n",
        "\n",
        "housing_summary = pd.read_sql(housing_summary_query, conn)\n",
        "health_summary = pd.read_sql(health_summary_query, conn)\n",
        "\n",
        "print(\"Housing Summary by ZIP Code:\")\n",
        "print(housing_summary.head())\n",
        "\n",
        "print(\"\\nHealth Inspections Summary by ZIP Code:\")\n",
        "print(health_summary.head())\n",
        "\n",
        "# this is summary, for this I just gave chatgpt column name and it suggested what columns to summarise and also for\"extract(r'(\\d{5})')\" may chatgpt live live for as long as human existence\n"
      ],
      "metadata": {
        "colab": {
          "base_uri": "https://localhost:8080/"
        },
        "id": "vP7IrQ151qOg",
        "outputId": "9a8cc3e8-baf1-4875-edec-e9793d490a29"
      },
      "execution_count": null,
      "outputs": [
        {
          "output_type": "stream",
          "name": "stdout",
          "text": [
            "Housing Summary by ZIP Code:\n",
            "  ZIP_CODE  total_housing_units  total_funded  total_cost\n",
            "0    10006                   16     1600000.0   7940418.0\n",
            "1    10150                   34     3850000.0   3850000.0\n",
            "2    10243                   55     7560000.0  31459122.0\n",
            "3    10311                  123     2000000.0  33674331.0\n",
            "4    10345                   43     6001178.0  37662946.0\n",
            "\n",
            "Health Inspections Summary by ZIP Code:\n",
            "  ZIP_CODE  avg_health_score  total_inspections\n",
            "0    90001         93.844974               1174\n",
            "1    90002         94.649057                265\n",
            "2    90003         92.693412               1184\n",
            "3    90004         92.866573               1424\n",
            "4    90005         91.426932               1656\n"
          ]
        }
      ]
    },
    {
      "cell_type": "code",
      "source": [
        "join_query = \"\"\"\n",
        "SELECT\n",
        "    h.ZIP_CODE,\n",
        "    h.total_housing_units,\n",
        "    h.total_funded,\n",
        "    h.total_cost,\n",
        "    i.avg_health_score,\n",
        "    i.total_inspections\n",
        "FROM (SELECT\n",
        "        ZIP_CODE,\n",
        "        SUM(`SITE UNITS`) AS total_housing_units,\n",
        "        SUM(`LAHD FUNDED`) AS total_funded,\n",
        "        SUM(`TDC`) AS total_cost\n",
        "      FROM housing\n",
        "      GROUP BY ZIP_CODE) h\n",
        "JOIN (SELECT\n",
        "        facility_zip AS ZIP_CODE,\n",
        "        AVG(score) AS avg_health_score,\n",
        "        COUNT(score) AS total_inspections\n",
        "      FROM health\n",
        "      GROUP BY facility_zip) i\n",
        "ON h.ZIP_CODE = i.ZIP_CODE\n",
        "\"\"\"\n",
        "\n",
        "# Executing the join query and storing  result in  DataFrame\n",
        "merged_data = pd.read_sql(join_query, conn)\n",
        "\n",
        "#printing\n",
        "print(merged_data.head())\n",
        "\n",
        "merged_data.to_csv(r'/content/merged_data.csv')\n",
        "#saving data to use in hypothesis"
      ],
      "metadata": {
        "colab": {
          "base_uri": "https://localhost:8080/"
        },
        "id": "CO_XKKw08Xv9",
        "outputId": "2192c97a-bb12-4e89-852d-3f86730f6c42"
      },
      "execution_count": null,
      "outputs": [
        {
          "output_type": "stream",
          "name": "stdout",
          "text": [
            "  ZIP_CODE  total_housing_units  total_funded   total_cost  avg_health_score  \\\n",
            "0    90002                  646    39491395.0  341671884.0         94.649057   \n",
            "1    90003                  792    94213715.0  535211033.0         92.693412   \n",
            "2    90004                  679    66595284.0  346710270.0         92.866573   \n",
            "3    90005                  433     7501000.0  142759221.0         91.426932   \n",
            "4    90006                 1084    76964153.0  524000365.0         92.740653   \n",
            "\n",
            "   total_inspections  \n",
            "0                265  \n",
            "1               1184  \n",
            "2               1424  \n",
            "3               1656  \n",
            "4               2113  \n"
          ]
        }
      ]
    },
    {
      "cell_type": "code",
      "source": [
        "from scipy import stats\n",
        "# for hypothesis"
      ],
      "metadata": {
        "id": "nc58NyanEjWl"
      },
      "execution_count": null,
      "outputs": []
    },
    {
      "cell_type": "code",
      "source": [
        "# Null : no relationship between the number of affordable housing units and restaurant health scores in a ZIP code.\n",
        "# Alternative : There is a relationship between the number of affordable housing units and restaurant health scores in a ZIP code.\n",
        "\n",
        "housing_units = merged_data['total_housing_units']  #creating variables\n",
        "health_scores = merged_data['avg_health_score']\n",
        "\n",
        "# Pearson correlation test (parametric test, assumes normality)\n",
        "# Pearson r measures the strength and direction of the linear relationship between two variables\n",
        "correlation_coefficient, p_value = stats.pearsonr(housing_units, health_scores)\n",
        "\n",
        "#if p less than 0.05 then true or not\n",
        "alpha = 0.05  # 5% significance level\n",
        "\n",
        "# results:\n",
        "print(f\"Correlation Coefficient: {correlation_coefficient}\")\n",
        "print(f\"P-value: {p_value}\")\n",
        "\n",
        "if p_value < alpha:\n",
        "    print(\"Reject the null hypothesis. There is evidence of a relationship between affordable housing units and restaurant health scores.\")\n",
        "else:\n",
        "    print(\"Fail to reject the null hypothesis. There is no evidence of a relationship between affordable housing units and restaurant health scores.\")\n"
      ],
      "metadata": {
        "colab": {
          "base_uri": "https://localhost:8080/"
        },
        "id": "ftMB7SWcHYGX",
        "outputId": "1ac64469-5ad9-4030-82cd-bc789207ef81"
      },
      "execution_count": null,
      "outputs": [
        {
          "output_type": "stream",
          "name": "stdout",
          "text": [
            "Correlation Coefficient: 0.024444028246336957\n",
            "P-value: 0.8675936582547689\n",
            "Fail to reject the null hypothesis. There is no evidence of a relationship between affordable housing units and restaurant health scores.\n"
          ]
        }
      ]
    },
    {
      "cell_type": "markdown",
      "source": [
        "pearson hypo python code inspiraton : https://youtu.be/m9r-Qck-s2g?si=QMjrmRBjOv9wka03\n",
        "\n",
        "save merged_data.csv : https://images.app.goo.gl/ptnUecxdCqodxYQ49\n",
        "\n",
        "SQL : 1. https://youtu.be/XE4cqdSt_vc?si=WQzbwQOchf_njgvt\n",
        "      2.https://youtu.be/ZHhjqq3r9C4?si=hPLpHfHpM599wcPY\n",
        "\n",
        "\n",
        "above videos were how to code in SQL but to use sql in python I took the help of Chatgpt and also to merge the databases"
      ],
      "metadata": {
        "id": "ps-08oKJNLHS"
      }
    }
  ]
}